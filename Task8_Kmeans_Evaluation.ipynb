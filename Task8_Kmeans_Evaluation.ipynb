{
 "cells": [
  {
   "cell_type": "code",
   "execution_count": 1,
   "metadata": {
    "colab": {},
    "colab_type": "code",
    "id": "_0q2Qo4WVlHr"
   },
   "outputs": [],
   "source": [
    "import pandas as pd\n",
    "import numpy as np\n",
    "from sklearn.preprocessing import MinMaxScaler\n",
    "from sklearn.decomposition import PCA\n",
    "from sklearn.cluster import KMeans\n",
    "import matplotlib.pyplot as plt\n",
    "from mpl_toolkits.mplot3d import Axes3D"
   ]
  },
  {
   "cell_type": "markdown",
   "metadata": {},
   "source": [
    "## Evaluation\n",
    "\n",
    "### Correction:\n",
    "During Evaluation we found out, that we did the One-Hot Encoding incorrectly.\n",
    "Pandas creates more entries on every row and therefore we were supposed to have 115 Dimensions instead of 41.\n",
    "\n",
    "So we do this correctly here now"
   ]
  },
  {
   "cell_type": "code",
   "execution_count": 2,
   "metadata": {},
   "outputs": [
    {
     "name": "stdout",
     "output_type": "stream",
     "text": [
      "(494021, 115)\n"
     ]
    }
   ],
   "source": [
    "import gzip\n",
    "\n",
    "with gzip.open('./kddcup.data_10_percent.gz') as f:\n",
    "    kdd_data = pd.read_csv(f, header=None)\n",
    "\n",
    "kdd_data = pd.concat([kdd_data, pd.get_dummies(kdd_data[1], drop_first=True)], axis=1)\n",
    "kdd_data = pd.concat([kdd_data, pd.get_dummies(kdd_data[2], drop_first=True)], axis=1)\n",
    "kdd_data = pd.concat([kdd_data, pd.get_dummies(kdd_data[3], drop_first=True)], axis=1)\n",
    "\n",
    "true_labels = kdd_data[41]\n",
    "kdd_data = kdd_data.drop(columns=[1,2,3,41])\n",
    "print (kdd_data.shape)"
   ]
  },
  {
   "cell_type": "markdown",
   "metadata": {},
   "source": [
    "We now load the [labeled Test data set](http://kdd.ics.uci.edu/databases/kddcup99/corrected.gz) from the KDD99 website\n",
    "also encode it via one-hot encoding"
   ]
  },
  {
   "cell_type": "code",
   "execution_count": 3,
   "metadata": {},
   "outputs": [
    {
     "data": {
      "text/plain": [
       "(311029, 114)"
      ]
     },
     "execution_count": 3,
     "metadata": {},
     "output_type": "execute_result"
    }
   ],
   "source": [
    "kdd_data_test = None\n",
    "with gzip.open('./corrected.gz') as f:\n",
    "    kdd_data_test = pd.read_csv(f, header=None)\n",
    "\n",
    "true_labels_test = kdd_data_test[41]\n",
    "\n",
    "kdd_data_test = pd.concat([kdd_data_test, pd.get_dummies(kdd_data_test[1], drop_first=True)], axis=1)\n",
    "kdd_data_test = pd.concat([kdd_data_test, pd.get_dummies(kdd_data_test[2], drop_first=True)], axis=1)\n",
    "kdd_data_test = pd.concat([kdd_data_test, pd.get_dummies(kdd_data_test[3], drop_first=True)], axis=1)\n",
    "\n",
    "kdd_data_test = kdd_data_test.drop(columns=[1,2,3,41])\n",
    "\n",
    "kdd_data_test.shape"
   ]
  },
  {
   "cell_type": "markdown",
   "metadata": {},
   "source": [
    "However this results in two sets, that have different shapes. Because the test set has some protocols and columns that are missing in the other set. We use the align function from pandas which will drop columns for the sake of aligning both data frames, which is unfortunate but necessary to continue our evaluation since we still need the same amount of features to use our PCA approach and for calculating the distances"
   ]
  },
  {
   "cell_type": "code",
   "execution_count": 4,
   "metadata": {},
   "outputs": [
    {
     "name": "stdout",
     "output_type": "stream",
     "text": [
      "(494021, 113) (311029, 113)\n"
     ]
    }
   ],
   "source": [
    "aligned_train, aligned_test = kdd_data.align(kdd_data_test, join='inner', axis=1)\n",
    "scaler = MinMaxScaler()\n",
    "data_train_scaled = scaler.fit_transform(aligned_train)\n",
    "data_test_scaled = scaler.fit_transform(aligned_test)\n",
    "print(aligned_train.shape, aligned_test.shape)"
   ]
  },
  {
   "cell_type": "markdown",
   "metadata": {},
   "source": [
    "The increased number of features also changed our approach to selecting 18 Principal Components instead of 9 for explaining 0.99 percent of variance"
   ]
  },
  {
   "cell_type": "code",
   "execution_count": 5,
   "metadata": {},
   "outputs": [
    {
     "name": "stdout",
     "output_type": "stream",
     "text": [
      "(494021, 113) dimensions reduced to (494021, 18) dimensions\n"
     ]
    },
    {
     "data": {
      "text/plain": [
       "Text(0, 0.5, 'cumulative explained variance')"
      ]
     },
     "execution_count": 5,
     "metadata": {},
     "output_type": "execute_result"
    },
    {
     "data": {
      "image/png": "[encoded data removed]",
      "text/plain": [
       "<Figure size 432x288 with 1 Axes>"
      ]
     },
     "metadata": {
      "needs_background": "light"
     },
     "output_type": "display_data"
    }
   ],
   "source": [
    "pca = PCA(n_components = 0.99)\n",
    "pca.fit(data_train_scaled)\n",
    "train_pca = pca.transform(data_train_scaled)\n",
    "print(\"{} dimensions reduced to {} dimensions\".format(data_train_scaled.shape, train_pca.shape))\n",
    "\n",
    "plt.plot(np.cumsum(pca.explained_variance_ratio_))\n",
    "plt.xlabel('number of components')\n",
    "plt.ylabel('cumulative explained variance')"
   ]
  },
  {
   "cell_type": "markdown",
   "metadata": {},
   "source": [
    "With our adjusted approach we now try to evaluate the approach of 4 Clusters and then run it against a Test set"
   ]
  },
  {
   "cell_type": "code",
   "execution_count": 6,
   "metadata": {},
   "outputs": [],
   "source": [
    "km_test = KMeans(n_clusters=4).fit(train_pca)"
   ]
  },
  {
   "cell_type": "markdown",
   "metadata": {},
   "source": [
    "First we again calculate a few distance Thresholds since we are still using the assumption, that anomalies are far away from Clusters from the paper \"Anomaly Detection\" by Chandola et al."
   ]
  },
  {
   "cell_type": "code",
   "execution_count": 30,
   "metadata": {},
   "outputs": [
    {
     "name": "stdout",
     "output_type": "stream",
     "text": [
      "median:  0.012171287771748147\n",
      "average:  0.3378291228106857\n",
      "max_dist_close:  2.012832245666405\n",
      "min_dist_close:  0.0034671984198248653\n"
     ]
    }
   ],
   "source": [
    "distances = []\n",
    "for index,data in enumerate(train_pca):\n",
    "    cluster = km_test.labels_[index]\n",
    "    dist = np.linalg.norm(data - km_test.cluster_centers_[cluster])\n",
    "    distances.append(dist)\n",
    "\n",
    "distances = sorted(distances)\n",
    "median = np.median(distances)\n",
    "average = np.average(distances)\n",
    "max_dist_close = max(distances) * 0.75\n",
    "min_dist_close = min(distances) *  1.5\n",
    "print(\"median: \", median)\n",
    "print(\"average: \", average)\n",
    "print(\"max_dist_close: \", max_dist_close)\n",
    "print(\"min_dist_close: \", min_dist_close)"
   ]
  },
  {
   "cell_type": "markdown",
   "metadata": {},
   "source": [
    "We apply the same transform to the test set so that we can calculate everything correctly"
   ]
  },
  {
   "cell_type": "code",
   "execution_count": 8,
   "metadata": {},
   "outputs": [
    {
     "name": "stdout",
     "output_type": "stream",
     "text": [
      "(311029, 113) dimensions reduced to (494021, 18) dimensions\n"
     ]
    },
    {
     "data": {
      "text/plain": [
       "Text(0, 0.5, 'cumulative explained variance')"
      ]
     },
     "execution_count": 8,
     "metadata": {},
     "output_type": "execute_result"
    },
    {
     "data": {
      "image/png": "[encoded data removed]",
      "text/plain": [
       "<Figure size 432x288 with 1 Axes>"
      ]
     },
     "metadata": {
      "needs_background": "light"
     },
     "output_type": "display_data"
    }
   ],
   "source": [
    "test_pca = pca.transform(data_test_scaled)\n",
    "print(\"{} dimensions reduced to {} dimensions\".format(data_test_scaled.shape, train_pca.shape))\n",
    "\n",
    "plt.plot(np.cumsum(pca.explained_variance_ratio_))\n",
    "plt.xlabel('number of components')\n",
    "plt.ylabel('cumulative explained variance')"
   ]
  },
  {
   "cell_type": "markdown",
   "metadata": {},
   "source": [
    "We evaluate via the test set by testing each datapoint of the testset against a all clusters and chosing the closest cluster as the cluster to be assigned to.\n",
    "If the distance is bigger than our chosen threshold then we categorize it as an anomaly otherwise we decide it to be normal traffic.\n",
    "We create 4 lists of objects which will represent the true positive, the true negative, the false negative and the false positive.\n",
    "A correctly classified anomaly is a true positive using the wording from the lecture slides\n",
    "A correctly classified normal is a true negative\n",
    "and for the incorrectly assigned anomaly and normal traffic we assign False Positive and False negative respectively."
   ]
  },
  {
   "cell_type": "code",
   "execution_count": 9,
   "metadata": {},
   "outputs": [],
   "source": [
    "def classify_testset(test_block, test_block_labels, test_range, threshold_dist, kmeans):\n",
    "    correct_anomalies = []\n",
    "    incorrect_anomalies = []\n",
    "    correct_normal = []\n",
    "    incorrect_normal = []\n",
    "    for index,data in enumerate(test_block):\n",
    "        idx = index + test_range[0]\n",
    "        distance= min([np.linalg.norm(data-c) for c in kmeans.cluster_centers_])\n",
    "        if distance > threshold_dist and test_block_labels[idx] != 'normal.':\n",
    "            correct_anomalies.append(data)\n",
    "        elif distance > threshold_dist and test_block_labels[idx] == 'normal.':\n",
    "            incorrect_anomalies.append(data)\n",
    "        elif distance <= threshold_dist and test_block_labels[idx] == 'normal.':\n",
    "            correct_normal.append(data)\n",
    "        elif distance <= threshold_dist and test_block_labels[idx] != 'normal.':\n",
    "            incorrect_normal.append(data)\n",
    "    return correct_anomalies, incorrect_anomalies, correct_normal, incorrect_normal"
   ]
  },
  {
   "cell_type": "code",
   "execution_count": 10,
   "metadata": {},
   "outputs": [
    {
     "name": "stdout",
     "output_type": "stream",
     "text": [
      "using median as threshold:\n",
      "---------------------------\n",
      "correctly classified as anomaly:  119673\n",
      "incorrectly classified as anomaly:  60593\n",
      "correctly classified as normal:  0\n",
      "incorrectly classified as normal:  130763\n",
      "total number of anomalies 250436\n",
      "total number of normal 60593\n"
     ]
    }
   ],
   "source": [
    "test_block_labels = true_labels_test\n",
    "test_block = test_pca\n",
    "test_range = [0, 500]\n",
    "\n",
    "correct_anomalies, incorrect_anomalies, correct_normal, incorrect_normal = classify_testset(test_block, test_block_labels, test_range, median, km_test)\n",
    "print('using median as threshold:')\n",
    "print('---------------------------')\n",
    "print('correctly classified as anomaly: ', len(correct_anomalies))\n",
    "print('incorrectly classified as anomaly: ', len(incorrect_anomalies))\n",
    "print('correctly classified as normal: ', len(correct_normal))\n",
    "print('incorrectly classified as normal: ', len(incorrect_normal))\n",
    "print('total number of anomalies', len([l for l in test_block_labels if l != 'normal.']))\n",
    "print('total number of normal', len([l for l in test_block_labels if l == 'normal.']))\n",
    "TP = len(correct_anomalies)\n",
    "TN = len(correct_normal)\n",
    "FN = len(incorrect_normal)\n",
    "FP = len(incorrect_anomalies)"
   ]
  },
  {
   "cell_type": "code",
   "execution_count": 11,
   "metadata": {},
   "outputs": [
    {
     "name": "stdout",
     "output_type": "stream",
     "text": [
      "precision 0.6638689492194868\n",
      "recall 0.4778586145761791\n",
      "false positive rate 1.0\n",
      "specifity  0.0\n",
      "negative predictive value  0.0\n",
      "accuracy 0.3847647647003977\n",
      "F1 score  0.5557113735250823\n"
     ]
    }
   ],
   "source": [
    "precision = TP/(TP + FP)\n",
    "recall = TP/(TP+FN)\n",
    "false_positive_rate = FP/(FP+TN)\n",
    "specifity = TN / (FP + TN)\n",
    "negative_predictive_value = TN/ (TN + FN)\n",
    "accuracy = (TP+TN) / (TP+FP+FN+TN)\n",
    "F1 = 2 * (precision * recall) / (precision + recall)\n",
    "print('precision', precision)\n",
    "print('recall', recall)\n",
    "print('false positive rate', false_positive_rate)\n",
    "print('specifity ', specifity)\n",
    "print('negative predictive value ', negative_predictive_value)\n",
    "print('accuracy', accuracy)\n",
    "print(\"F1 score \", F1)"
   ]
  },
  {
   "cell_type": "code",
   "execution_count": 12,
   "metadata": {},
   "outputs": [
    {
     "name": "stdout",
     "output_type": "stream",
     "text": [
      "using average as threshold:\n",
      "---------------------------\n",
      "correctly classified as anomaly:  103511\n",
      "incorrectly classified as anomaly:  60593\n",
      "correctly classified as normal:  0\n",
      "incorrectly classified as normal:  146925\n",
      "total number of anomalies 250436\n",
      "total number of normal 60593\n"
     ]
    }
   ],
   "source": [
    "correct_anomalies, incorrect_anomalies, correct_normal, incorrect_normal = classify_testset(test_block, test_block_labels, test_range, average, km_test)\n",
    "print('using average as threshold:')\n",
    "print('---------------------------')\n",
    "print('correctly classified as anomaly: ', len(correct_anomalies))\n",
    "print('incorrectly classified as anomaly: ', len(incorrect_anomalies))\n",
    "print('correctly classified as normal: ', len(correct_normal))\n",
    "print('incorrectly classified as normal: ', len(incorrect_normal))\n",
    "print('total number of anomalies', len([l for l in test_block_labels if l != 'normal.']))\n",
    "print('total number of normal', len([l for l in test_block_labels if l == 'normal.']))\n",
    "TP = len(correct_anomalies)\n",
    "TN = len(correct_normal)\n",
    "FN = len(incorrect_normal)\n",
    "FP = len(incorrect_anomalies)"
   ]
  },
  {
   "cell_type": "code",
   "execution_count": 13,
   "metadata": {},
   "outputs": [
    {
     "name": "stdout",
     "output_type": "stream",
     "text": [
      "precision 0.6307646370594258\n",
      "recall 0.41332316440128414\n",
      "false positive rate 1.0\n",
      "specifity  0.0\n",
      "negative predictive value  0.0\n",
      "accuracy 0.33280176446569293\n",
      "F1 score  0.4994017465142085\n"
     ]
    }
   ],
   "source": [
    "precision = TP/(TP + FP)\n",
    "recall = TP/(TP+FN)\n",
    "false_positive_rate = FP/(FP+TN)\n",
    "specifity = TN / (FP + TN)\n",
    "negative_predictive_value = TN/ (TN + FN)\n",
    "accuracy = (TP+TN) / (TP+FP+FN+TN)\n",
    "F1 = 2 * (precision * recall) / (precision + recall)\n",
    "print('precision', precision)\n",
    "print('recall', recall)\n",
    "print('false positive rate', false_positive_rate)\n",
    "print('specifity ', specifity)\n",
    "print('negative predictive value ', negative_predictive_value)\n",
    "print('accuracy', accuracy)\n",
    "print(\"F1 score \", F1)"
   ]
  },
  {
   "cell_type": "code",
   "execution_count": 31,
   "metadata": {},
   "outputs": [
    {
     "name": "stdout",
     "output_type": "stream",
     "text": [
      "using close to max distance as threshold:\n",
      "---------------------------\n",
      "correctly classified as anomaly:  1498\n",
      "incorrectly classified as anomaly:  751\n",
      "correctly classified as normal:  59842\n",
      "incorrectly classified as normal:  248938\n",
      "total number of anomalies 250436\n",
      "total number of normal 60593\n"
     ]
    }
   ],
   "source": [
    "correct_anomalies, incorrect_anomalies, correct_normal, incorrect_normal = classify_testset(test_block, test_block_labels, test_range, max_dist_close, km_test)\n",
    "print('using close to max distance as threshold:')\n",
    "print('---------------------------')\n",
    "print('correctly classified as anomaly: ', len(correct_anomalies))\n",
    "print('incorrectly classified as anomaly: ', len(incorrect_anomalies))\n",
    "print('correctly classified as normal: ', len(correct_normal))\n",
    "print('incorrectly classified as normal: ', len(incorrect_normal))\n",
    "print('total number of anomalies', len([l for l in test_block_labels if l != 'normal.']))\n",
    "print('total number of normal', len([l for l in test_block_labels if l == 'normal.']))\n",
    "TP = len(correct_anomalies)\n",
    "TN = len(correct_normal)\n",
    "FN = len(incorrect_normal)\n",
    "FP = len(incorrect_anomalies)"
   ]
  },
  {
   "cell_type": "code",
   "execution_count": 32,
   "metadata": {},
   "outputs": [
    {
     "name": "stdout",
     "output_type": "stream",
     "text": [
      "precision 0.666073810582481\n",
      "recall 0.0059815681451548496\n",
      "false positive rate 0.012394170943838398\n",
      "specifity  0.9876058290561616\n",
      "negative predictive value  0.19380141200854978\n",
      "accuracy 0.19721633674030395\n",
      "F1 score  0.011856659477214714\n"
     ]
    }
   ],
   "source": [
    "precision = TP/(TP + FP)\n",
    "recall = TP/(TP+FN)\n",
    "false_positive_rate = FP/(FP+TN)\n",
    "specifity = TN / (FP + TN)\n",
    "negative_predictive_value = TN/ (TN + FN)\n",
    "accuracy = (TP+TN) / (TP+FP+FN+TN)\n",
    "F1 = 2 * (precision * recall) / (precision + recall)\n",
    "print('precision', precision)\n",
    "print('recall', recall)\n",
    "print('false positive rate', false_positive_rate)\n",
    "print('specifity ', specifity)\n",
    "print('negative predictive value ', negative_predictive_value)\n",
    "print('accuracy', accuracy)\n",
    "print(\"F1 score \", F1)"
   ]
  },
  {
   "cell_type": "code",
   "execution_count": 28,
   "metadata": {},
   "outputs": [
    {
     "name": "stdout",
     "output_type": "stream",
     "text": [
      "using close to min distance as threshold:\n",
      "---------------------------\n",
      "correctly classified as anomaly:  250081\n",
      "incorrectly classified as anomaly:  60593\n",
      "correctly classified as normal:  0\n",
      "incorrectly classified as normal:  355\n",
      "total number of anomalies 250436\n",
      "total number of normal 60593\n"
     ]
    }
   ],
   "source": [
    "correct_anomalies, incorrect_anomalies, correct_normal, incorrect_normal = classify_testset(test_block, test_block_labels, test_range, min_dist_close, km_test)\n",
    "print('using close to min distance as threshold:')\n",
    "print('---------------------------')\n",
    "print('correctly classified as anomaly: ', len(correct_anomalies))\n",
    "print('incorrectly classified as anomaly: ', len(incorrect_anomalies))\n",
    "print('correctly classified as normal: ', len(correct_normal))\n",
    "print('incorrectly classified as normal: ', len(incorrect_normal))\n",
    "print('total number of anomalies', len([l for l in test_block_labels if l != 'normal.']))\n",
    "print('total number of normal', len([l for l in test_block_labels if l == 'normal.']))\n",
    "TP = len(correct_anomalies)\n",
    "TN = len(correct_normal)\n",
    "FN = len(incorrect_normal)\n",
    "FP = len(incorrect_anomalies)"
   ]
  },
  {
   "cell_type": "code",
   "execution_count": 29,
   "metadata": {},
   "outputs": [
    {
     "name": "stdout",
     "output_type": "stream",
     "text": [
      "precision 0.8049627583898235\n",
      "recall 0.998582472168538\n",
      "false positive rate 1.0\n",
      "specifity  0.0\n",
      "negative predictive value  0.0\n",
      "accuracy 0.8040439958974887\n",
      "F1 score  0.891379586890271\n"
     ]
    }
   ],
   "source": [
    "precision = TP/(TP + FP)\n",
    "recall = TP/(TP+FN)\n",
    "false_positive_rate = FP/(FP+TN)\n",
    "specifity = TN / (FP + TN)\n",
    "negative_predictive_value = TN/ (TN + FN)\n",
    "accuracy = (TP+TN) / (TP+FP+FN+TN)\n",
    "F1 = 2 * (precision * recall) / (precision + recall)\n",
    "print('precision', precision)\n",
    "print('recall', recall)\n",
    "print('false positive rate', false_positive_rate)\n",
    "print('specifity ', specifity)\n",
    "print('negative predictive value ', negative_predictive_value)\n",
    "print('accuracy', accuracy)\n",
    "print(\"F1 score \", F1)"
   ]
  },
  {
   "cell_type": "markdown",
   "metadata": {},
   "source": [
    "The Result of our configuration is definitely not very good. We have multiple theories.\n",
    "### 1. Number of clusters is way too low\n",
    "We tried to make an educated guess for checking the number of clusters with the Elbow Method. The guess was based that the number of correct clusters should be around the number of classes in the dataset. We tried to apply domain knowledge and only checked for range 1 to 30 number of clusters. Another reason was that it was very slow in calculating even 30 different cluster settings so a check over a bigger number of clusters was not feasible, we just took a bad starting condition it seems like.\n",
    "\n",
    "### 2. Assumption of Cluster Distance is wrong\n",
    "Another reason for our poor performance could be, that we chose the wrong assumption/approach for deciding what is an anomaly and what is not.\n",
    "It could be that a lot of anomalies also create their own clusters that they are indeed close to. So using the assumption of anomalies being far away from clusters, especially in a dataset where the normal network traffic is in the minority, may have been not a good choice that creates a poor performance.\n",
    "You can see in the results above that not a single entry was correctly classified as normal traffic, showing that our approach was better at finding anomalies but not good at finding normal traffic at all. Every single case of normal traffic was categorized as an anomaly. Which tells us that 4 clusters are not a good setting for this approach\n",
    "### 3. Bad Threshold \n",
    "We tried a few random thresholds, the average, the median and a distance close to the max distance. However they all performed pretty poorly.\n",
    "Our guess for average being so bad is because it is easily influenced by outliers so if you have many outliers in a dataset then the average will be influenced too.\n",
    "The median worked better because it is more resistant to outliers by just selecting an element that is in the center distance wise.\n",
    "The best threshold was the one close to the  minimal distance. Probably because this one plays into our assumption the most that normal flow is pretty close to their centroid while the rest should be outside. However again it fails to get any kind normal network flow correct."
   ]
  },
  {
   "cell_type": "markdown",
   "metadata": {},
   "source": [
    "Below is a test where we increase the k arbitrarily higher to see if a higher k gives a better result. We are using the threshold that gave us the best result for the F1 score close to min distance. We only test one approach because the result is very slow with this high amount of clusters."
   ]
  },
  {
   "cell_type": "code",
   "execution_count": 33,
   "metadata": {},
   "outputs": [],
   "source": [
    "km_test = KMeans(n_clusters=140).fit(train_pca)"
   ]
  },
  {
   "cell_type": "code",
   "execution_count": 34,
   "metadata": {},
   "outputs": [
    {
     "name": "stdout",
     "output_type": "stream",
     "text": [
      "median:  0.001807968085256121\n",
      "average:  0.039750280548656515\n",
      "max_dist_close:  1.2555378335675447\n",
      "min_dist_close:  0.0009656836378610375\n"
     ]
    }
   ],
   "source": [
    "distances = []\n",
    "for index,data in enumerate(train_pca):\n",
    "    cluster = km_test.labels_[index]\n",
    "    dist = np.linalg.norm(data - km_test.cluster_centers_[cluster])\n",
    "    distances.append(dist)\n",
    "\n",
    "distances = sorted(distances)\n",
    "median = np.median(distances)\n",
    "average = np.average(distances)\n",
    "threshold = max(distances) * 0.9\n",
    "max_dist_close = max(distances) * 0.75\n",
    "min_dist_close = min(distances) *  1.5\n",
    "print(\"median: \", median)\n",
    "print(\"average: \", average)\n",
    "print(\"max_dist_close: \", max_dist_close)\n",
    "print(\"min_dist_close: \", min_dist_close)"
   ]
  },
  {
   "cell_type": "code",
   "execution_count": 35,
   "metadata": {},
   "outputs": [
    {
     "name": "stdout",
     "output_type": "stream",
     "text": [
      "correctly classified as anomaly:  148966\n",
      "incorrectly classified as anomaly:  60593\n",
      "correctly classified as normal:  0\n",
      "incorrectly classified as normal:  101470\n",
      "total number of anomalies 250436\n",
      "total number of normal 60593\n"
     ]
    }
   ],
   "source": [
    "test_range = [0,len(true_labels_test)]\n",
    "test_block_labels = true_labels_test[test_range[0]:test_range[1]]\n",
    "test_block = test_pca[test_range[0]:test_range[1]]\n",
    "correct_anomalies, incorrect_anomalies, correct_normal, incorrect_normal = classify_testset(test_block, test_block_labels, test_range, min_dist_close, km_test)\n",
    "print('correctly classified as anomaly: ', len(correct_anomalies))\n",
    "print('incorrectly classified as anomaly: ', len(incorrect_anomalies))\n",
    "print('correctly classified as normal: ', len(correct_normal))\n",
    "print('incorrectly classified as normal: ', len(incorrect_normal))\n",
    "print('total number of anomalies', len([l for l in test_block_labels if l != 'normal.']))\n",
    "print('total number of normal', len([l for l in test_block_labels if l == 'normal.']))\n",
    "TP = len(correct_anomalies)\n",
    "TN = len(correct_normal)\n",
    "FN = len(incorrect_normal)\n",
    "FP = len(incorrect_anomalies)"
   ]
  },
  {
   "cell_type": "code",
   "execution_count": 37,
   "metadata": {},
   "outputs": [
    {
     "name": "stdout",
     "output_type": "stream",
     "text": [
      "precision 0.7108546996311301\n",
      "recall 0.5948266223705857\n",
      "false positive rate 1.0\n",
      "specifity  0.0\n",
      "negative predictive value  0.0\n",
      "accuracy 0.47894569316687513\n",
      "F1 score  0.647685300927184\n"
     ]
    }
   ],
   "source": [
    "precision = TP/(TP + FP)\n",
    "recall = TP/(TP+FN)\n",
    "false_positive_rate = FP/(FP+TN)\n",
    "specifity = TN / (FP + TN)\n",
    "negative_predictive_value = TN/ (TN + FN)\n",
    "accuracy = (TP+TN) / (TP+FP+FN+TN)\n",
    "F1 = 2 * (precision * recall) / (precision + recall)\n",
    "print('precision', precision)\n",
    "print('recall', recall)\n",
    "print('false positive rate', false_positive_rate)\n",
    "print('specifity ', specifity)\n",
    "print('negative predictive value ', negative_predictive_value)\n",
    "print('accuracy', accuracy)\n",
    "print(\"F1 score \", F1)"
   ]
  },
  {
   "cell_type": "markdown",
   "metadata": {},
   "source": [
    "The higher amount of clusters did not improve the result. This can mean we either overfit or that our other factors we called above were indeed the problem. Or just that K-Means is not the right approach for this dataset, but to conclude that we would have to try the other approaches like for example the check if we are in a dense or a sparse cluster. \n",
    "# Conclusion\n",
    "All in all our approach was not really succesfull we identified possible problems in our approach and would try to approach this problem differently the next time. Probably by first researching what publication already did with this dataset and adjust our approaches that way\n",
    "With more time we also could have tried a bigger range of k's to determine if we really found the elbow for our method.\n",
    "Another approach we have seen was preparing the data way more and collecting different protocols and other labels into bigger classes. Multiple attacks were assigned to specific attack classes[1].\n",
    "We can still see room for improvement in our approach can hopefully learn from the mistakes we made here.\n",
    "\n",
    "[1] Faraoun, K. M., and Aoued Boukelif. \"Neural networks learning improvement using the K-means clustering algorithm to detect network intrusions.\" INFOCOMP Journal of Computer Science 5, no. 3 (2006): 28-36."
   ]
  },
  {
   "cell_type": "code",
   "execution_count": null,
   "metadata": {},
   "outputs": [],
   "source": []
  }
 ],
 "metadata": {
  "accelerator": "GPU",
  "colab": {
   "name": "aic_kmeans.ipynb",
   "provenance": []
  },
  "kernelspec": {
   "display_name": "Python 3",
   "language": "python",
   "name": "python3"
  },
  "language_info": {
   "codemirror_mode": {
    "name": "ipython",
    "version": 3
   },
   "file_extension": ".py",
   "mimetype": "text/x-python",
   "name": "python",
   "nbconvert_exporter": "python",
   "pygments_lexer": "ipython3",
   "version": "3.8.3"
  }
 },
 "nbformat": 4,
 "nbformat_minor": 1
}
