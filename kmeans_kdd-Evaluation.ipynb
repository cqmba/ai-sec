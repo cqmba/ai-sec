{
 "cells": [
  {
   "cell_type": "code",
   "execution_count": 1,
   "metadata": {
    "colab": {},
    "colab_type": "code",
    "id": "_0q2Qo4WVlHr"
   },
   "outputs": [],
   "source": [
    "import pandas as pd\n",
    "import numpy as np\n",
    "from sklearn.preprocessing import MinMaxScaler\n",
    "from sklearn.decomposition import PCA\n",
    "from sklearn.cluster import KMeans\n",
    "import matplotlib.pyplot as plt\n",
    "from mpl_toolkits.mplot3d import Axes3D"
   ]
  },
  {
   "cell_type": "markdown",
   "metadata": {},
   "source": [
    "## Data Preparation\n",
    "\n",
    "After loading we first prepare the data by factorizing the text fields"
   ]
  },
  {
   "cell_type": "code",
   "execution_count": 2,
   "metadata": {
    "colab": {
     "base_uri": "https://localhost:8080/",
     "height": 224
    },
    "colab_type": "code",
    "id": "0BEsEvhhpvCC",
    "outputId": "cf56bcb9-b5ca-4544-ac8b-00a530610112"
   },
   "outputs": [
    {
     "data": {
      "text/html": [
       "<div>\n",
       "<style scoped>\n",
       "    .dataframe tbody tr th:only-of-type {\n",
       "        vertical-align: middle;\n",
       "    }\n",
       "\n",
       "    .dataframe tbody tr th {\n",
       "        vertical-align: top;\n",
       "    }\n",
       "\n",
       "    .dataframe thead th {\n",
       "        text-align: right;\n",
       "    }\n",
       "</style>\n",
       "<table border=\"1\" class=\"dataframe\">\n",
       "  <thead>\n",
       "    <tr style=\"text-align: right;\">\n",
       "      <th></th>\n",
       "      <th>0</th>\n",
       "      <th>1</th>\n",
       "      <th>2</th>\n",
       "      <th>3</th>\n",
       "      <th>4</th>\n",
       "      <th>5</th>\n",
       "      <th>6</th>\n",
       "      <th>7</th>\n",
       "      <th>8</th>\n",
       "      <th>9</th>\n",
       "      <th>...</th>\n",
       "      <th>32</th>\n",
       "      <th>33</th>\n",
       "      <th>34</th>\n",
       "      <th>35</th>\n",
       "      <th>36</th>\n",
       "      <th>37</th>\n",
       "      <th>38</th>\n",
       "      <th>39</th>\n",
       "      <th>40</th>\n",
       "      <th>41</th>\n",
       "    </tr>\n",
       "  </thead>\n",
       "  <tbody>\n",
       "    <tr>\n",
       "      <th>0</th>\n",
       "      <td>0</td>\n",
       "      <td>tcp</td>\n",
       "      <td>http</td>\n",
       "      <td>SF</td>\n",
       "      <td>215</td>\n",
       "      <td>45076</td>\n",
       "      <td>0</td>\n",
       "      <td>0</td>\n",
       "      <td>0</td>\n",
       "      <td>0</td>\n",
       "      <td>...</td>\n",
       "      <td>0</td>\n",
       "      <td>0.0</td>\n",
       "      <td>0.0</td>\n",
       "      <td>0.00</td>\n",
       "      <td>0.0</td>\n",
       "      <td>0.0</td>\n",
       "      <td>0.0</td>\n",
       "      <td>0.0</td>\n",
       "      <td>0.0</td>\n",
       "      <td>normal.</td>\n",
       "    </tr>\n",
       "    <tr>\n",
       "      <th>1</th>\n",
       "      <td>0</td>\n",
       "      <td>tcp</td>\n",
       "      <td>http</td>\n",
       "      <td>SF</td>\n",
       "      <td>162</td>\n",
       "      <td>4528</td>\n",
       "      <td>0</td>\n",
       "      <td>0</td>\n",
       "      <td>0</td>\n",
       "      <td>0</td>\n",
       "      <td>...</td>\n",
       "      <td>1</td>\n",
       "      <td>1.0</td>\n",
       "      <td>0.0</td>\n",
       "      <td>1.00</td>\n",
       "      <td>0.0</td>\n",
       "      <td>0.0</td>\n",
       "      <td>0.0</td>\n",
       "      <td>0.0</td>\n",
       "      <td>0.0</td>\n",
       "      <td>normal.</td>\n",
       "    </tr>\n",
       "    <tr>\n",
       "      <th>2</th>\n",
       "      <td>0</td>\n",
       "      <td>tcp</td>\n",
       "      <td>http</td>\n",
       "      <td>SF</td>\n",
       "      <td>236</td>\n",
       "      <td>1228</td>\n",
       "      <td>0</td>\n",
       "      <td>0</td>\n",
       "      <td>0</td>\n",
       "      <td>0</td>\n",
       "      <td>...</td>\n",
       "      <td>2</td>\n",
       "      <td>1.0</td>\n",
       "      <td>0.0</td>\n",
       "      <td>0.50</td>\n",
       "      <td>0.0</td>\n",
       "      <td>0.0</td>\n",
       "      <td>0.0</td>\n",
       "      <td>0.0</td>\n",
       "      <td>0.0</td>\n",
       "      <td>normal.</td>\n",
       "    </tr>\n",
       "    <tr>\n",
       "      <th>3</th>\n",
       "      <td>0</td>\n",
       "      <td>tcp</td>\n",
       "      <td>http</td>\n",
       "      <td>SF</td>\n",
       "      <td>233</td>\n",
       "      <td>2032</td>\n",
       "      <td>0</td>\n",
       "      <td>0</td>\n",
       "      <td>0</td>\n",
       "      <td>0</td>\n",
       "      <td>...</td>\n",
       "      <td>3</td>\n",
       "      <td>1.0</td>\n",
       "      <td>0.0</td>\n",
       "      <td>0.33</td>\n",
       "      <td>0.0</td>\n",
       "      <td>0.0</td>\n",
       "      <td>0.0</td>\n",
       "      <td>0.0</td>\n",
       "      <td>0.0</td>\n",
       "      <td>normal.</td>\n",
       "    </tr>\n",
       "    <tr>\n",
       "      <th>4</th>\n",
       "      <td>0</td>\n",
       "      <td>tcp</td>\n",
       "      <td>http</td>\n",
       "      <td>SF</td>\n",
       "      <td>239</td>\n",
       "      <td>486</td>\n",
       "      <td>0</td>\n",
       "      <td>0</td>\n",
       "      <td>0</td>\n",
       "      <td>0</td>\n",
       "      <td>...</td>\n",
       "      <td>4</td>\n",
       "      <td>1.0</td>\n",
       "      <td>0.0</td>\n",
       "      <td>0.25</td>\n",
       "      <td>0.0</td>\n",
       "      <td>0.0</td>\n",
       "      <td>0.0</td>\n",
       "      <td>0.0</td>\n",
       "      <td>0.0</td>\n",
       "      <td>normal.</td>\n",
       "    </tr>\n",
       "  </tbody>\n",
       "</table>\n",
       "<p>5 rows × 42 columns</p>\n",
       "</div>"
      ],
      "text/plain": [
       "   0    1     2   3    4      5   6   7   8   9   ...  32   33   34    35  \\\n",
       "0   0  tcp  http  SF  215  45076   0   0   0   0  ...   0  0.0  0.0  0.00   \n",
       "1   0  tcp  http  SF  162   4528   0   0   0   0  ...   1  1.0  0.0  1.00   \n",
       "2   0  tcp  http  SF  236   1228   0   0   0   0  ...   2  1.0  0.0  0.50   \n",
       "3   0  tcp  http  SF  233   2032   0   0   0   0  ...   3  1.0  0.0  0.33   \n",
       "4   0  tcp  http  SF  239    486   0   0   0   0  ...   4  1.0  0.0  0.25   \n",
       "\n",
       "    36   37   38   39   40       41  \n",
       "0  0.0  0.0  0.0  0.0  0.0  normal.  \n",
       "1  0.0  0.0  0.0  0.0  0.0  normal.  \n",
       "2  0.0  0.0  0.0  0.0  0.0  normal.  \n",
       "3  0.0  0.0  0.0  0.0  0.0  normal.  \n",
       "4  0.0  0.0  0.0  0.0  0.0  normal.  \n",
       "\n",
       "[5 rows x 42 columns]"
      ]
     },
     "execution_count": 2,
     "metadata": {},
     "output_type": "execute_result"
    }
   ],
   "source": [
    "kdd_data_full = pd.read_csv(\"./kddcup.data.corrected\", header=None)\n",
    "kdd_data_full.head()"
   ]
  },
  {
   "cell_type": "code",
   "execution_count": 5,
   "metadata": {
    "colab": {},
    "colab_type": "code",
    "id": "h6ZT06S6WXYI"
   },
   "outputs": [],
   "source": [
    "kdd_data_full[1], protocols = pd.factorize(kdd_data_full[1])\n",
    "kdd_data_full[2], services = pd.factorize(kdd_data_full[2])\n",
    "kdd_data_full[3], flags    = pd.factorize(kdd_data_full[3])\n",
    "kdd_data_full[41], attacks = pd.factorize(kdd_data_full[41])\n",
    "\n",
    "data_full = kdd_data_full.iloc[:,:kdd_data_full.shape[1]-1]\n",
    "labels_full = kdd_data_full.iloc[:,-1]"
   ]
  },
  {
   "cell_type": "code",
   "execution_count": 6,
   "metadata": {
    "colab": {
     "base_uri": "https://localhost:8080/",
     "height": 102
    },
    "colab_type": "code",
    "id": "aQ4moSkefrw4",
    "outputId": "df30c01f-0662-4f87-cac1-b2304cecd930"
   },
   "outputs": [
    {
     "name": "stdout",
     "output_type": "stream",
     "text": [
      "[ 0  1  2  3  4  5  6  7  8  9 10 11 12 13 14 15 16 17 18 19 20 21 22]\n",
      "23\n"
     ]
    }
   ],
   "source": [
    "print(labels_full.unique())\n",
    "print(len(labels_full.unique()))"
   ]
  },
  {
   "cell_type": "markdown",
   "metadata": {},
   "source": [
    "## Determine optimal k\n",
    "\n",
    "We decided to use the Elbow Method to determine which K is the best for representing the number of clusters therefore we are iterating through a range of clusters.\n",
    "The full result is shown in the picture below.\n",
    "From this we infer the optimal k is at 4."
   ]
  },
  {
   "cell_type": "code",
   "execution_count": 7,
   "metadata": {
    "colab": {},
    "colab_type": "code",
    "id": "1OHXnv-mp880"
   },
   "outputs": [],
   "source": [
    "def find_k(data):\n",
    "    kmeans_results = []\n",
    "    error = []\n",
    "    labels = []\n",
    "    K = range(1,30)\n",
    "    for k in K:\n",
    "        km = KMeans(n_clusters=k).fit(data)\n",
    "        kmeans_results.append(km)\n",
    "        error.append(km.inertia_)\n",
    "        labels.append(km.labels_)\n",
    "\n",
    "    plt.plot(K, error, 'o-')\n",
    "    plt.xlabel('number of clusters k')\n",
    "    plt.ylabel('Inertia (sum of squared distances)')\n",
    "    plt.title('Optimal k')\n",
    "    plt.show()\n",
    "\n",
    "    return kmeans_results, error, labels"
   ]
  },
  {
   "cell_type": "code",
   "execution_count": 8,
   "metadata": {
    "colab": {
     "base_uri": "https://localhost:8080/",
     "height": 295
    },
    "colab_type": "code",
    "id": "7Y8uyr1SqSwx",
    "outputId": "f1c8ca50-ff25-4f12-b4d2-32d2c6f57659"
   },
   "outputs": [
    {
     "ename": "KeyboardInterrupt",
     "evalue": "",
     "output_type": "error",
     "traceback": [
      "\u001b[0;31m---------------------------------------------------------------------------\u001b[0m",
      "\u001b[0;31mKeyboardInterrupt\u001b[0m                         Traceback (most recent call last)",
      "\u001b[0;32m<ipython-input-8-129d0fbf23ce>\u001b[0m in \u001b[0;36m<module>\u001b[0;34m\u001b[0m\n\u001b[1;32m      1\u001b[0m \u001b[0mscaler\u001b[0m \u001b[0;34m=\u001b[0m \u001b[0mMinMaxScaler\u001b[0m\u001b[0;34m(\u001b[0m\u001b[0;34m)\u001b[0m\u001b[0;34m\u001b[0m\u001b[0;34m\u001b[0m\u001b[0m\n\u001b[1;32m      2\u001b[0m \u001b[0mdata_scaled_full\u001b[0m \u001b[0;34m=\u001b[0m \u001b[0mscaler\u001b[0m\u001b[0;34m.\u001b[0m\u001b[0mfit_transform\u001b[0m\u001b[0;34m(\u001b[0m\u001b[0mdata_full\u001b[0m\u001b[0;34m)\u001b[0m\u001b[0;34m\u001b[0m\u001b[0;34m\u001b[0m\u001b[0m\n\u001b[0;32m----> 3\u001b[0;31m \u001b[0mkmeans_results_full\u001b[0m\u001b[0;34m,\u001b[0m \u001b[0merror_full\u001b[0m\u001b[0;34m,\u001b[0m \u001b[0mlabels_full\u001b[0m \u001b[0;34m=\u001b[0m \u001b[0mfind_k\u001b[0m\u001b[0;34m(\u001b[0m\u001b[0mdata_scaled_full\u001b[0m\u001b[0;34m)\u001b[0m\u001b[0;34m\u001b[0m\u001b[0;34m\u001b[0m\u001b[0m\n\u001b[0m",
      "\u001b[0;32m<ipython-input-7-ea10c0998d27>\u001b[0m in \u001b[0;36mfind_k\u001b[0;34m(data)\u001b[0m\n\u001b[1;32m      5\u001b[0m     \u001b[0mK\u001b[0m \u001b[0;34m=\u001b[0m \u001b[0mrange\u001b[0m\u001b[0;34m(\u001b[0m\u001b[0;36m1\u001b[0m\u001b[0;34m,\u001b[0m\u001b[0;36m30\u001b[0m\u001b[0;34m)\u001b[0m\u001b[0;34m\u001b[0m\u001b[0;34m\u001b[0m\u001b[0m\n\u001b[1;32m      6\u001b[0m     \u001b[0;32mfor\u001b[0m \u001b[0mk\u001b[0m \u001b[0;32min\u001b[0m \u001b[0mK\u001b[0m\u001b[0;34m:\u001b[0m\u001b[0;34m\u001b[0m\u001b[0;34m\u001b[0m\u001b[0m\n\u001b[0;32m----> 7\u001b[0;31m         \u001b[0mkm\u001b[0m \u001b[0;34m=\u001b[0m \u001b[0mKMeans\u001b[0m\u001b[0;34m(\u001b[0m\u001b[0mn_clusters\u001b[0m\u001b[0;34m=\u001b[0m\u001b[0mk\u001b[0m\u001b[0;34m)\u001b[0m\u001b[0;34m.\u001b[0m\u001b[0mfit\u001b[0m\u001b[0;34m(\u001b[0m\u001b[0mdata\u001b[0m\u001b[0;34m)\u001b[0m\u001b[0;34m\u001b[0m\u001b[0;34m\u001b[0m\u001b[0m\n\u001b[0m\u001b[1;32m      8\u001b[0m         \u001b[0mkmeans_results\u001b[0m\u001b[0;34m.\u001b[0m\u001b[0mappend\u001b[0m\u001b[0;34m(\u001b[0m\u001b[0mkm\u001b[0m\u001b[0;34m)\u001b[0m\u001b[0;34m\u001b[0m\u001b[0;34m\u001b[0m\u001b[0m\n\u001b[1;32m      9\u001b[0m         \u001b[0merror\u001b[0m\u001b[0;34m.\u001b[0m\u001b[0mappend\u001b[0m\u001b[0;34m(\u001b[0m\u001b[0mkm\u001b[0m\u001b[0;34m.\u001b[0m\u001b[0minertia_\u001b[0m\u001b[0;34m)\u001b[0m\u001b[0;34m\u001b[0m\u001b[0;34m\u001b[0m\u001b[0m\n",
      "\u001b[0;32m~/anaconda3/lib/python3.7/site-packages/sklearn/cluster/k_means_.py\u001b[0m in \u001b[0;36mfit\u001b[0;34m(self, X, y, sample_weight)\u001b[0m\n\u001b[1;32m    967\u001b[0m                 \u001b[0mtol\u001b[0m\u001b[0;34m=\u001b[0m\u001b[0mself\u001b[0m\u001b[0;34m.\u001b[0m\u001b[0mtol\u001b[0m\u001b[0;34m,\u001b[0m \u001b[0mrandom_state\u001b[0m\u001b[0;34m=\u001b[0m\u001b[0mrandom_state\u001b[0m\u001b[0;34m,\u001b[0m \u001b[0mcopy_x\u001b[0m\u001b[0;34m=\u001b[0m\u001b[0mself\u001b[0m\u001b[0;34m.\u001b[0m\u001b[0mcopy_x\u001b[0m\u001b[0;34m,\u001b[0m\u001b[0;34m\u001b[0m\u001b[0;34m\u001b[0m\u001b[0m\n\u001b[1;32m    968\u001b[0m                 \u001b[0mn_jobs\u001b[0m\u001b[0;34m=\u001b[0m\u001b[0mself\u001b[0m\u001b[0;34m.\u001b[0m\u001b[0mn_jobs\u001b[0m\u001b[0;34m,\u001b[0m \u001b[0malgorithm\u001b[0m\u001b[0;34m=\u001b[0m\u001b[0mself\u001b[0m\u001b[0;34m.\u001b[0m\u001b[0malgorithm\u001b[0m\u001b[0;34m,\u001b[0m\u001b[0;34m\u001b[0m\u001b[0;34m\u001b[0m\u001b[0m\n\u001b[0;32m--> 969\u001b[0;31m                 return_n_iter=True)\n\u001b[0m\u001b[1;32m    970\u001b[0m         \u001b[0;32mreturn\u001b[0m \u001b[0mself\u001b[0m\u001b[0;34m\u001b[0m\u001b[0;34m\u001b[0m\u001b[0m\n\u001b[1;32m    971\u001b[0m \u001b[0;34m\u001b[0m\u001b[0m\n",
      "\u001b[0;32m~/anaconda3/lib/python3.7/site-packages/sklearn/cluster/k_means_.py\u001b[0m in \u001b[0;36mk_means\u001b[0;34m(X, n_clusters, sample_weight, init, precompute_distances, n_init, max_iter, verbose, tol, random_state, copy_x, n_jobs, algorithm, return_n_iter)\u001b[0m\n\u001b[1;32m    376\u001b[0m                 \u001b[0mverbose\u001b[0m\u001b[0;34m=\u001b[0m\u001b[0mverbose\u001b[0m\u001b[0;34m,\u001b[0m \u001b[0mprecompute_distances\u001b[0m\u001b[0;34m=\u001b[0m\u001b[0mprecompute_distances\u001b[0m\u001b[0;34m,\u001b[0m\u001b[0;34m\u001b[0m\u001b[0;34m\u001b[0m\u001b[0m\n\u001b[1;32m    377\u001b[0m                 \u001b[0mtol\u001b[0m\u001b[0;34m=\u001b[0m\u001b[0mtol\u001b[0m\u001b[0;34m,\u001b[0m \u001b[0mx_squared_norms\u001b[0m\u001b[0;34m=\u001b[0m\u001b[0mx_squared_norms\u001b[0m\u001b[0;34m,\u001b[0m\u001b[0;34m\u001b[0m\u001b[0;34m\u001b[0m\u001b[0m\n\u001b[0;32m--> 378\u001b[0;31m                 random_state=random_state)\n\u001b[0m\u001b[1;32m    379\u001b[0m             \u001b[0;31m# determine if these results are the best so far\u001b[0m\u001b[0;34m\u001b[0m\u001b[0;34m\u001b[0m\u001b[0;34m\u001b[0m\u001b[0m\n\u001b[1;32m    380\u001b[0m             \u001b[0;32mif\u001b[0m \u001b[0mbest_inertia\u001b[0m \u001b[0;32mis\u001b[0m \u001b[0;32mNone\u001b[0m \u001b[0;32mor\u001b[0m \u001b[0minertia\u001b[0m \u001b[0;34m<\u001b[0m \u001b[0mbest_inertia\u001b[0m\u001b[0;34m:\u001b[0m\u001b[0;34m\u001b[0m\u001b[0;34m\u001b[0m\u001b[0m\n",
      "\u001b[0;32m~/anaconda3/lib/python3.7/site-packages/sklearn/cluster/k_means_.py\u001b[0m in \u001b[0;36m_kmeans_single_elkan\u001b[0;34m(X, sample_weight, n_clusters, max_iter, init, verbose, x_squared_norms, random_state, tol, precompute_distances)\u001b[0m\n\u001b[1;32m    432\u001b[0m     \u001b[0;31m# init\u001b[0m\u001b[0;34m\u001b[0m\u001b[0;34m\u001b[0m\u001b[0;34m\u001b[0m\u001b[0m\n\u001b[1;32m    433\u001b[0m     centers = _init_centroids(X, n_clusters, init, random_state=random_state,\n\u001b[0;32m--> 434\u001b[0;31m                               x_squared_norms=x_squared_norms)\n\u001b[0m\u001b[1;32m    435\u001b[0m     \u001b[0mcenters\u001b[0m \u001b[0;34m=\u001b[0m \u001b[0mnp\u001b[0m\u001b[0;34m.\u001b[0m\u001b[0mascontiguousarray\u001b[0m\u001b[0;34m(\u001b[0m\u001b[0mcenters\u001b[0m\u001b[0;34m)\u001b[0m\u001b[0;34m\u001b[0m\u001b[0;34m\u001b[0m\u001b[0m\n\u001b[1;32m    436\u001b[0m     \u001b[0;32mif\u001b[0m \u001b[0mverbose\u001b[0m\u001b[0;34m:\u001b[0m\u001b[0;34m\u001b[0m\u001b[0;34m\u001b[0m\u001b[0m\n",
      "\u001b[0;32m~/anaconda3/lib/python3.7/site-packages/sklearn/cluster/k_means_.py\u001b[0m in \u001b[0;36m_init_centroids\u001b[0;34m(X, k, init, random_state, x_squared_norms, init_size)\u001b[0m\n\u001b[1;32m    744\u001b[0m     \u001b[0;32mif\u001b[0m \u001b[0misinstance\u001b[0m\u001b[0;34m(\u001b[0m\u001b[0minit\u001b[0m\u001b[0;34m,\u001b[0m \u001b[0mstr\u001b[0m\u001b[0;34m)\u001b[0m \u001b[0;32mand\u001b[0m \u001b[0minit\u001b[0m \u001b[0;34m==\u001b[0m \u001b[0;34m'k-means++'\u001b[0m\u001b[0;34m:\u001b[0m\u001b[0;34m\u001b[0m\u001b[0;34m\u001b[0m\u001b[0m\n\u001b[1;32m    745\u001b[0m         centers = _k_init(X, k, random_state=random_state,\n\u001b[0;32m--> 746\u001b[0;31m                           x_squared_norms=x_squared_norms)\n\u001b[0m\u001b[1;32m    747\u001b[0m     \u001b[0;32melif\u001b[0m \u001b[0misinstance\u001b[0m\u001b[0;34m(\u001b[0m\u001b[0minit\u001b[0m\u001b[0;34m,\u001b[0m \u001b[0mstr\u001b[0m\u001b[0;34m)\u001b[0m \u001b[0;32mand\u001b[0m \u001b[0minit\u001b[0m \u001b[0;34m==\u001b[0m \u001b[0;34m'random'\u001b[0m\u001b[0;34m:\u001b[0m\u001b[0;34m\u001b[0m\u001b[0;34m\u001b[0m\u001b[0m\n\u001b[1;32m    748\u001b[0m         \u001b[0mseeds\u001b[0m \u001b[0;34m=\u001b[0m \u001b[0mrandom_state\u001b[0m\u001b[0;34m.\u001b[0m\u001b[0mpermutation\u001b[0m\u001b[0;34m(\u001b[0m\u001b[0mn_samples\u001b[0m\u001b[0;34m)\u001b[0m\u001b[0;34m[\u001b[0m\u001b[0;34m:\u001b[0m\u001b[0mk\u001b[0m\u001b[0;34m]\u001b[0m\u001b[0;34m\u001b[0m\u001b[0;34m\u001b[0m\u001b[0m\n",
      "\u001b[0;32m~/anaconda3/lib/python3.7/site-packages/sklearn/cluster/k_means_.py\u001b[0m in \u001b[0;36m_k_init\u001b[0;34m(X, n_clusters, x_squared_norms, random_state, n_local_trials)\u001b[0m\n\u001b[1;32m    122\u001b[0m             \u001b[0;31m# Compute potential when including center candidate\u001b[0m\u001b[0;34m\u001b[0m\u001b[0;34m\u001b[0m\u001b[0;34m\u001b[0m\u001b[0m\n\u001b[1;32m    123\u001b[0m             new_dist_sq = np.minimum(closest_dist_sq,\n\u001b[0;32m--> 124\u001b[0;31m                                      distance_to_candidates[trial])\n\u001b[0m\u001b[1;32m    125\u001b[0m             \u001b[0mnew_pot\u001b[0m \u001b[0;34m=\u001b[0m \u001b[0mnew_dist_sq\u001b[0m\u001b[0;34m.\u001b[0m\u001b[0msum\u001b[0m\u001b[0;34m(\u001b[0m\u001b[0;34m)\u001b[0m\u001b[0;34m\u001b[0m\u001b[0;34m\u001b[0m\u001b[0m\n\u001b[1;32m    126\u001b[0m \u001b[0;34m\u001b[0m\u001b[0m\n",
      "\u001b[0;31mKeyboardInterrupt\u001b[0m: "
     ]
    }
   ],
   "source": [
    "scaler = MinMaxScaler()\n",
    "data_scaled_full = scaler.fit_transform(data_full)\n",
    "kmeans_results_full, error_full, labels_full = find_k(data_scaled_full)"
   ]
  },
  {
   "cell_type": "markdown",
   "metadata": {},
   "source": [
    "## Test with subset of data\n",
    "\n",
    "We also applied this method also to the smaller subset of the data. Since this lead to the same results we decided to use the 10 percent data set for the remaining tasks. "
   ]
  },
  {
   "cell_type": "code",
   "execution_count": 11,
   "metadata": {
    "colab": {
     "base_uri": "https://localhost:8080/",
     "height": 295
    },
    "colab_type": "code",
    "id": "r_cR3zSytm45",
    "outputId": "d08752d7-a519-488f-d89b-49d0eb0ade64"
   },
   "outputs": [
    {
     "name": "stdout",
     "output_type": "stream",
     "text": [
      "(494021, 115)\n"
     ]
    }
   ],
   "source": [
    "import gzip\n",
    "\n",
    "with gzip.open('./kddcup.data_10_percent.gz') as f:\n",
    "    kdd_data = pd.read_csv(f, header=None)\n",
    "\n",
    "kdd_data = pd.concat([kdd_data, pd.get_dummies(kdd_data[1], drop_first=True)], axis=1)\n",
    "kdd_data = pd.concat([kdd_data, pd.get_dummies(kdd_data[2], drop_first=True)], axis=1)\n",
    "kdd_data = pd.concat([kdd_data, pd.get_dummies(kdd_data[3], drop_first=True)], axis=1)\n",
    "\n",
    "true_labels = kdd_data[41]\n",
    "kdd_data = kdd_data.drop(columns=[1,2,3,41])\n",
    "scaler = MinMaxScaler()\n",
    "data_scaled = scaler.fit_transform(kdd_data)\n",
    "print (data_scaled.shape)"
   ]
  },
  {
   "cell_type": "markdown",
   "metadata": {
    "colab_type": "text",
    "id": "maxWNlLZnkYA"
   },
   "source": [
    "## Visualization\n",
    "\n",
    "To visualize the clusters in a scatter plot we first transformed the data via PCA to be 3 dimensional. We can see that the 4 clusters seem to seperate the data the best of all the results we have."
   ]
  },
  {
   "cell_type": "code",
   "execution_count": 13,
   "metadata": {
    "colab": {
     "base_uri": "https://localhost:8080/",
     "height": 357
    },
    "colab_type": "code",
    "id": "reUMhO7o1Gh6",
    "outputId": "dd05bdc9-021d-4201-ac52-28693800dac1"
   },
   "outputs": [
    {
     "ename": "TypeError",
     "evalue": "'numpy.int64' object is not iterable",
     "output_type": "error",
     "traceback": [
      "\u001b[0;31m---------------------------------------------------------------------------\u001b[0m",
      "\u001b[0;31mTypeError\u001b[0m                                 Traceback (most recent call last)",
      "\u001b[0;32m<ipython-input-13-2560294cb32d>\u001b[0m in \u001b[0;36m<module>\u001b[0;34m\u001b[0m\n\u001b[1;32m      6\u001b[0m \u001b[0;32mfor\u001b[0m \u001b[0mindex\u001b[0m\u001b[0;34m,\u001b[0m \u001b[0mlabel\u001b[0m \u001b[0;32min\u001b[0m \u001b[0menumerate\u001b[0m\u001b[0;34m(\u001b[0m\u001b[0mselected_labels\u001b[0m\u001b[0;34m)\u001b[0m\u001b[0;34m:\u001b[0m\u001b[0;34m\u001b[0m\u001b[0;34m\u001b[0m\u001b[0m\n\u001b[1;32m      7\u001b[0m     \u001b[0max\u001b[0m \u001b[0;34m=\u001b[0m \u001b[0mfig\u001b[0m\u001b[0;34m.\u001b[0m\u001b[0madd_subplot\u001b[0m\u001b[0;34m(\u001b[0m\u001b[0;36m1\u001b[0m\u001b[0;34m,\u001b[0m\u001b[0;36m3\u001b[0m\u001b[0;34m,\u001b[0m \u001b[0mindex\u001b[0m\u001b[0;34m+\u001b[0m\u001b[0;36m1\u001b[0m\u001b[0;34m,\u001b[0m \u001b[0mprojection\u001b[0m\u001b[0;34m=\u001b[0m\u001b[0;34m'3d'\u001b[0m\u001b[0;34m)\u001b[0m\u001b[0;34m\u001b[0m\u001b[0;34m\u001b[0m\u001b[0m\n\u001b[0;32m----> 8\u001b[0;31m     \u001b[0mcluster_num\u001b[0m \u001b[0;34m=\u001b[0m \u001b[0mmax\u001b[0m\u001b[0;34m(\u001b[0m\u001b[0mlabel\u001b[0m\u001b[0;34m)\u001b[0m\u001b[0;34m\u001b[0m\u001b[0;34m\u001b[0m\u001b[0m\n\u001b[0m\u001b[1;32m      9\u001b[0m     \u001b[0max\u001b[0m\u001b[0;34m.\u001b[0m\u001b[0mset_title\u001b[0m\u001b[0;34m(\u001b[0m\u001b[0;34m\"{} clusters\"\u001b[0m\u001b[0;34m.\u001b[0m\u001b[0mformat\u001b[0m\u001b[0;34m(\u001b[0m\u001b[0mcluster_num\u001b[0m\u001b[0;34m+\u001b[0m\u001b[0;36m1\u001b[0m\u001b[0;34m)\u001b[0m\u001b[0;34m)\u001b[0m\u001b[0;34m\u001b[0m\u001b[0;34m\u001b[0m\u001b[0m\n\u001b[1;32m     10\u001b[0m     \u001b[0max\u001b[0m\u001b[0;34m.\u001b[0m\u001b[0mscatter\u001b[0m\u001b[0;34m(\u001b[0m\u001b[0mpca_3d\u001b[0m\u001b[0;34m[\u001b[0m\u001b[0;34m:\u001b[0m\u001b[0;34m,\u001b[0m\u001b[0;36m0\u001b[0m\u001b[0;34m]\u001b[0m\u001b[0;34m,\u001b[0m\u001b[0mpca_3d\u001b[0m\u001b[0;34m[\u001b[0m\u001b[0;34m:\u001b[0m\u001b[0;34m,\u001b[0m\u001b[0;36m1\u001b[0m\u001b[0;34m]\u001b[0m\u001b[0;34m,\u001b[0m \u001b[0mpca_3d\u001b[0m\u001b[0;34m[\u001b[0m\u001b[0;34m:\u001b[0m\u001b[0;34m,\u001b[0m\u001b[0;36m2\u001b[0m\u001b[0;34m]\u001b[0m\u001b[0;34m,\u001b[0m \u001b[0mc\u001b[0m\u001b[0;34m=\u001b[0m\u001b[0mlabel\u001b[0m\u001b[0;34m)\u001b[0m\u001b[0;34m\u001b[0m\u001b[0;34m\u001b[0m\u001b[0m\n",
      "\u001b[0;31mTypeError\u001b[0m: 'numpy.int64' object is not iterable"
     ]
    },
    {
     "data": {
      "image/png": "[encoded data removed]",
      "text/plain": [
       "<Figure size 1296x432 with 1 Axes>"
      ]
     },
     "metadata": {
      "needs_background": "light"
     },
     "output_type": "display_data"
    }
   ],
   "source": [
    "pca = PCA(n_components=3).fit(data_scaled)\n",
    "pca_3d = pca.transform(data_scaled)\n",
    "\n",
    "fig = plt.figure(figsize=(18, 6))\n",
    "selected_labels = [labels_full[3], labels_full[22], labels_full[28]]\n",
    "for index, label in enumerate(selected_labels):\n",
    "    ax = fig.add_subplot(1,3, index+1, projection='3d')\n",
    "    cluster_num = max(label)\n",
    "    ax.set_title(\"{} clusters\".format(cluster_num+1))\n",
    "    ax.scatter(pca_3d[:,0],pca_3d[:,1], pca_3d[:,2], c=label)\n",
    "plt.show()"
   ]
  },
  {
   "cell_type": "markdown",
   "metadata": {
    "colab_type": "text",
    "id": "xbjcHzaCxRGD"
   },
   "source": [
    "## Dimensionality Reduction\n",
    "\n",
    "Furthermore we attempt to reduce the dimensionality before clustering. First to speed up the computation and second to see if there are any differences in the results. We determine the number of principal components in such a way that the kept components explain 99% of the variance. In the end we reduced the number of dimensions from 41 features to 9 components."
   ]
  },
  {
   "cell_type": "code",
   "execution_count": null,
   "metadata": {
    "colab": {
     "base_uri": "https://localhost:8080/",
     "height": 313
    },
    "colab_type": "code",
    "id": "aUmwWIzDuaSN",
    "outputId": "f6fbe514-8612-42d7-f57f-da31b19cf8c7"
   },
   "outputs": [],
   "source": [
    "pca = PCA(n_components = 0.99)\n",
    "pca.fit(data_scaled)\n",
    "data_pca = pca.transform(data_scaled)\n",
    "print(\"{} dimensions reduced to {} dimensions\".format(data.shape, data_pca.shape))\n",
    "\n",
    "pca = PCA().fit(data_scaled)\n",
    "plt.plot(np.cumsum(pca.explained_variance_ratio_))\n",
    "plt.xlabel('number of components')\n",
    "plt.ylabel('cumulative explained variance')"
   ]
  },
  {
   "cell_type": "code",
   "execution_count": null,
   "metadata": {
    "colab": {
     "base_uri": "https://localhost:8080/",
     "height": 295
    },
    "colab_type": "code",
    "id": "wBeGnUmNvolj",
    "outputId": "a5a2a842-e4aa-47c6-bc08-745d3033f2e7"
   },
   "outputs": [],
   "source": [
    "kmeans_results, error_pca, labels_pca = find_k(data_pca)"
   ]
  },
  {
   "cell_type": "markdown",
   "metadata": {},
   "source": [
    "The Elbow again is at point 4. So PCA didn't lose much information here."
   ]
  },
  {
   "cell_type": "code",
   "execution_count": null,
   "metadata": {
    "colab": {
     "base_uri": "https://localhost:8080/",
     "height": 357
    },
    "colab_type": "code",
    "id": "hplwszj0ogHf",
    "outputId": "c2d21930-0b16-4453-be57-002cb1a587b3"
   },
   "outputs": [],
   "source": [
    "fig = plt.figure(figsize=(18, 6))\n",
    "labels_selected = [labels_pca[3], labels_pca[4], labels_pca[22]]\n",
    "for index, label in enumerate(labels_selected):\n",
    "    ax = fig.add_subplot(1,3, index+1, projection='3d')\n",
    "    cluster_number = max(label)+1\n",
    "    ax.set_title(\"{} clusters\".format(cluster_number))\n",
    "    ax.scatter(data_pca[:,0],data_pca[:,1], data_pca[:,2], c=label)\n",
    "plt.show()"
   ]
  },
  {
   "cell_type": "code",
   "execution_count": null,
   "metadata": {
    "colab": {},
    "colab_type": "code",
    "id": "oDreOHFEpvNS"
   },
   "outputs": [],
   "source": [
    "distances = []\n",
    "for index,data in enumerate(data_pca):\n",
    "    cluster = kmeans_results[3].labels_[index]\n",
    "    dist = np.linalg.norm(data - kmeans_results[3].cluster_centers_[cluster])\n",
    "    distances.append(dist)\n",
    "\n",
    "distances = sorted(distances)\n",
    "median = np.median(distances)\n",
    "average = np.average(distances)\n",
    "threshold = max(distances) - 0.5"
   ]
  },
  {
   "cell_type": "code",
   "execution_count": null,
   "metadata": {
    "colab": {
     "base_uri": "https://localhost:8080/",
     "height": 683
    },
    "colab_type": "code",
    "id": "C3JwbLRQ1w-o",
    "outputId": "f1c929a8-4259-4520-f57a-879e76f04e11"
   },
   "outputs": [],
   "source": [
    "fig = plt.figure(figsize=(16, 12))\n",
    "color_labels = []\n",
    "anomalies_idx = []\n",
    "normal_idx = []\n",
    "for index,data in enumerate(data_pca):\n",
    "    if distances[index] > median:\n",
    "        anomalies_idx.append(index)\n",
    "        color = 'r'\n",
    "    else:\n",
    "        color = 'b'\n",
    "        normal_idx.append(index)\n",
    "    color_labels.append(color)\n",
    " \n",
    "ax = fig.add_subplot(111, projection='3d')\n",
    "ax.set_title(\"Anomalies (red) and Normal (blue)\")\n",
    "ax.scatter(data_pca[:,0],data_pca[:,1], data_pca[:,2], c=color_labels)\n",
    "plt.show()"
   ]
  },
  {
   "cell_type": "code",
   "execution_count": null,
   "metadata": {
    "colab": {
     "base_uri": "https://localhost:8080/",
     "height": 119
    },
    "colab_type": "code",
    "id": "uCtdx69a11P9",
    "outputId": "c3ff81f7-6a17-4c88-f436-5257cac45f30"
   },
   "outputs": [],
   "source": [
    "true_anomalies = list(filter(lambda l: l!= 'normal.', true_labels))\n",
    "true_normal = list(filter(lambda l: l == 'normal.', true_labels))\n",
    "correct_labelled_normal = list(filter(lambda l: l=='normal.', true_labels[normal_idx]))\n",
    "correct_labelled_anomalies = list(filter(lambda l: l!='normal.', true_labels[anomalies_idx]))\n",
    "print(\"true normal: {:,}\".format(len(true_normal)))\n",
    "print(\"true anomalies: {:,}\".format(len(true_anomalies)))\n",
    "print(\"identified normal: {:,}\".format(len(normal_idx)))\n",
    "print(\"identified anomalies: {:,}\".format(len(anomalies_idx)))\n",
    "print(\"correctly identified normal labels num: {} ({:%})\".format(len(correct_labelled_normal), len(correct_labelled_normal)/len(true_normal)))\n",
    "print(\"correctly identified anomalies labels num: {:,} ({:%})\".format(len(correct_labelled_anomalies), len(correct_labelled_anomalies)/len(true_anomalies)))"
   ]
  },
  {
   "cell_type": "markdown",
   "metadata": {},
   "source": [
    "## Evaluation\n",
    "\n",
    "First we load the test data set from the KDD99 set:"
   ]
  },
  {
   "cell_type": "code",
   "execution_count": null,
   "metadata": {},
   "outputs": [],
   "source": []
  },
  {
   "cell_type": "code",
   "execution_count": null,
   "metadata": {},
   "outputs": [],
   "source": [
    "kdd_data_test = pd.read_csv('kd99_test.data', header=None)\n",
    "\n",
    "print(kdd_data_test.head())\n",
    "\n",
    "kdd_data = pd.concat([kdd_data, pd.get_dummies(kdd_data_test[1], drop_first=True)], axis=1)\n",
    "kdd_data = pd.concat([kdd_data, pd.get_dummies(kdd_data_test[2], drop_first=True)], axis=1)\n",
    "kdd_data = pd.concat([kdd_data, pd.get_dummies(kdd_data_test[3], drop_first=True)], axis=1)\n",
    "\n",
    "\n",
    "true_labels_test = kdd_data_test[41]\n",
    "kdd_data_test = kdd_data_test.drop(columns=[1,2,3,41])\n",
    "kdd_data_test\n",
    "scaler = MinMaxScaler()\n",
    "data_scaled_test = scaler.fit_transform(kdd_data_test)"
   ]
  },
  {
   "cell_type": "markdown",
   "metadata": {},
   "source": [
    "Then we take a block out of that data and test if they get categorized correctly"
   ]
  },
  {
   "cell_type": "code",
   "execution_count": null,
   "metadata": {},
   "outputs": [],
   "source": [
    "km_test = KMeans(n_clusters=110).fit(data_pca)"
   ]
  },
  {
   "cell_type": "code",
   "execution_count": null,
   "metadata": {},
   "outputs": [],
   "source": [
    "distances = []\n",
    "for index,data in enumerate(data_pca):\n",
    "    cluster = km_test.labels_[index]\n",
    "    dist = np.linalg.norm(data - km_test.cluster_centers_[cluster])\n",
    "    distances.append(dist)\n",
    "\n",
    "distances = sorted(distances)\n",
    "median_110 = np.median(distances)\n",
    "average_110 = np.average(distances)\n",
    "threshold_110 = max(distances) - 0.5\n",
    "print(\"median: \", median_110)\n",
    "print(\"average: \", average_110)\n",
    "print(\"threshold_110: \", threshold_110)"
   ]
  },
  {
   "cell_type": "code",
   "execution_count": null,
   "metadata": {},
   "outputs": [],
   "source": [
    "test_range = (0, 2500)\n",
    "test_block_labels = true_labels_test[test_range[0]:test_range[1]]\n",
    "test_block = data_scaled_test[test_range[0]:test_range[1]]\n",
    "pca_test = PCA(n_components=0.99)\n",
    "pca_test.fit(test_block)\n",
    "pca_test_block = pca_test.transform(test_block)\n",
    "k4_means = km_test \n",
    "correct_anomalies = []\n",
    "incorrect_anomalies = []\n",
    "correct_normal = []\n",
    "incorrect_normal = []\n",
    "print(median_110)\n",
    "for index,data in enumerate(pca_test_block):\n",
    "    idx = index + test_range[0]\n",
    "    distance= min([np.linalg.norm(data-c) for c in k4_means.cluster_centers_])\n",
    "    if index == 0:\n",
    "        print(distance)\n",
    "    if distance > median_110 and test_block_labels[idx] != 'normal.':\n",
    "        correct_anomalies.append(data)\n",
    "    if distance > median_110 and test_block_labels[idx] == 'normal.':\n",
    "        incorrect_anomalies.append(data)\n",
    "    if distance <= median_110 and test_block_labels[idx] == 'normal.':\n",
    "        correct_normal.append(data)\n",
    "    if distance <= median_110 and test_block_labels[idx] != 'normal.':\n",
    "        incorrect_normal.append(data)\n",
    "\n",
    "print('correct anomalies: ', len(correct_anomalies))\n",
    "print('incorrect anomalies: ', len(incorrect_anomalies))\n",
    "print('correct normals: ', len(correct_normal))\n",
    "print('incorrect normals: ', len(incorrect_normal))\n",
    "print('total number of anomalies', len([l for l in test_block_labels if l != 'normal.']))\n",
    "print('total number of normal', len([l for l in test_block_labels if l == 'normal.']))\n",
    "TP = len(correct_anomalies)\n",
    "TN = len(correct_normal)\n",
    "FN = len(incorrect_normal)\n",
    "FP = len(incorrect_anomalies)"
   ]
  },
  {
   "cell_type": "code",
   "execution_count": null,
   "metadata": {},
   "outputs": [],
   "source": [
    "precision = TP/(TP + FP)\n",
    "print('precision', precision)\n",
    "recall = TP/(TP+FN)\n",
    "print('recall', recall)\n",
    "false_positive_rate = FP/(FP+TN)\n",
    "print('false positive rate', false_positive_rate)\n",
    "specifity = TN / (FP + TN)\n",
    "print('specifity ', specifity)\n",
    "negative_predictive_value = TN/ (TN + FN + 0.00001)\n",
    "print('negative predictive value ', negative_predictive_value)\n",
    "accuracy = (TP+TN) / (TP+FP+FN+TN)\n",
    "print('accuracy', accuracy)\n",
    "F1 = 2 * (precision * recall) / (precision + recall)\n",
    "print(\"F1 score \", F1)"
   ]
  },
  {
   "cell_type": "code",
   "execution_count": null,
   "metadata": {},
   "outputs": [],
   "source": []
  }
 ],
 "metadata": {
  "accelerator": "GPU",
  "colab": {
   "name": "aic_kmeans.ipynb",
   "provenance": []
  },
  "kernelspec": {
   "display_name": "Python 3",
   "language": "python",
   "name": "python3"
  },
  "language_info": {
   "codemirror_mode": {
    "name": "ipython",
    "version": 3
   },
   "file_extension": ".py",
   "mimetype": "text/x-python",
   "name": "python",
   "nbconvert_exporter": "python",
   "pygments_lexer": "ipython3",
   "version": "3.7.3"
  }
 },
 "nbformat": 4,
 "nbformat_minor": 1
}
