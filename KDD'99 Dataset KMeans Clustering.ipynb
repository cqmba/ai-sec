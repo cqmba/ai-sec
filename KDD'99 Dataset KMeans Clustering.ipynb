{
 "cells": [
  {
   "cell_type": "code",
   "execution_count": 24,
   "metadata": {
    "collapsed": true
   },
   "outputs": [],
   "source": [
    "import sys\n",
    "import pandas as pd\n",
    "import numpy as np\n",
    "from sklearn.preprocessing import MinMaxScaler\n",
    "from sklearn.decomposition import PCA\n",
    "from sklearn.cluster import KMeans\n",
    "import matplotlib.pyplot as plt\n",
    "from mpl_toolkits.mplot3d import Axes3D"
   ]
  },
  {
   "cell_type": "code",
   "execution_count": 50,
   "metadata": {
    "collapsed": false
   },
   "outputs": [
    {
     "name": "stderr",
     "output_type": "stream",
     "text": [
      "c:\\users\\eric\\appdata\\local\\programs\\python\\python35\\lib\\site-packages\\sklearn\\preprocessing\\data.py:323: DataConversionWarning: Data with input dtype int64, float64 were all converted to float64 by MinMaxScaler.\n",
      "  return self.partial_fit(X, y)\n"
     ]
    }
   ],
   "source": [
    "path = 'kddcup.data_10_percent_corrected'\n",
    "kdd_data = pd.read_csv(path, header=None)\n",
    "\n",
    "kdd_data[1], protocols = pd.factorize(kdd_data[1])\n",
    "kdd_data[2], services = pd.factorize(kdd_data[2])\n",
    "kdd_data[3], flags    = pd.factorize(kdd_data[3])\n",
    "kdd_data[41], attacks = pd.factorize(kdd_data[41])\n",
    "#kdd_data.head()\n",
    "\n",
    "scaler = MinMaxScaler()\n",
    "data_transformed= scaler.fit_transform(kdd_data)"
   ]
  },
  {
   "cell_type": "code",
   "execution_count": 52,
   "metadata": {
    "collapsed": false
   },
   "outputs": [],
   "source": [
    "error = []\n",
    "labels = []\n",
    "K = [2,3,4, 22,23,24,30]\n",
    "for k in K:\n",
    "    km = KMeans(n_clusters=k)\n",
    "    km = km.fit(data_transformed)\n",
    "    error.append(km.inertia_)\n",
    "    labels.append(km.labels_)"
   ]
  },
  {
   "cell_type": "code",
   "execution_count": 62,
   "metadata": {
    "collapsed": false,
    "scrolled": true
   },
   "outputs": [
    {
     "data": {
      "image/png": "[encoded data removed]",
      "text/plain": [
       "<matplotlib.figure.Figure at 0x2342882d0f0>"
      ]
     },
     "metadata": {},
     "output_type": "display_data"
    }
   ],
   "source": [
    "plt.plot(K, error, 'o')\n",
    "plt.xlabel('number of clusters k')\n",
    "plt.ylabel('Inertia (sum of squared distances)')\n",
    "plt.title('Optimal k')\n",
    "plt.show()"
   ]
  },
  {
   "cell_type": "code",
   "execution_count": 63,
   "metadata": {
    "collapsed": false
   },
   "outputs": [
    {
     "data": {
      "text/plain": [
       "(30, 42)"
      ]
     },
     "execution_count": 63,
     "metadata": {},
     "output_type": "execute_result"
    }
   ],
   "source": [
    "km.cluster_centers_.shape"
   ]
  },
  {
   "cell_type": "code",
   "execution_count": 67,
   "metadata": {
    "collapsed": true
   },
   "outputs": [],
   "source": [
    "pca = PCA(n_components=3).fit(data_transformed)\n",
    "pca_3d = pca.transform(data_transformed)"
   ]
  },
  {
   "cell_type": "code",
   "execution_count": 69,
   "metadata": {
    "collapsed": false
   },
   "outputs": [
    {
     "data": {
      "text/plain": [
       "array([[ 0.68351646,  1.43335234, -0.42200799, ...,  0.01566232,\n",
       "         0.00881599, -0.00356094],\n",
       "       [ 0.6916106 ,  1.44310212, -0.42952296, ...,  0.01800234,\n",
       "         0.00887729, -0.00323919],\n",
       "       [ 0.68557812,  1.44303027, -0.43472774, ...,  0.01840725,\n",
       "         0.00863091, -0.00305955],\n",
       "       ...,\n",
       "       [ 0.49110888,  1.46647421, -0.67096846, ...,  0.00684463,\n",
       "        -0.03380988, -0.02962299],\n",
       "       [ 0.42306181,  1.54515034, -0.62245292, ...,  0.00916613,\n",
       "        -0.00263761, -0.00318886],\n",
       "       [ 0.35270436,  1.52749947, -0.61363576, ...,  0.01692336,\n",
       "         0.00827453,  0.00560602]])"
      ]
     },
     "execution_count": 69,
     "metadata": {},
     "output_type": "execute_result"
    }
   ],
   "source": [
    "pca_3d"
   ]
  },
  {
   "cell_type": "code",
   "execution_count": null,
   "metadata": {
    "collapsed": false
   },
   "outputs": [],
   "source": [
    "fig = plt.figure(figsize=(19.2, 14.4))\n",
    "for index, label in enumerate(labels):\n",
    "    ax = fig.add_subplot(3, 3, index+1, projection='3d')\n",
    "    ax.scatter(pca_3d[:,0],pca_3d[:,1], pca_3d[:,2], c=label)\n",
    "plt.show()"
   ]
  },
  {
   "cell_type": "code",
   "execution_count": 73,
   "metadata": {
    "collapsed": true
   },
   "outputs": [],
   "source": [
    "pca = PCA(n_components=3).fit(data_transformed)\n",
    "pca_data_3d = pca.transform(data_transformed)"
   ]
  },
  {
   "cell_type": "code",
   "execution_count": null,
   "metadata": {
    "collapsed": false,
    "deletable": true,
    "editable": true
   },
   "outputs": [],
   "source": [
    "error_pca = []\n",
    "labels_pca = []\n",
    "K = range(1,30)\n",
    "for k in K:\n",
    "    km = KMeans(n_clusters=k)\n",
    "    km = km.fit(pca_data_3d)\n",
    "    error_pca.append(km.inertia_)\n",
    "    labels_pca.append(km.labels_)"
   ]
  },
  {
   "cell_type": "code",
   "execution_count": 75,
   "metadata": {
    "collapsed": false
   },
   "outputs": [
    {
     "data": {
      "image/png": "[encoded data removed]",
      "text/plain": [
       "<matplotlib.figure.Figure at 0x2344c5b4588>"
      ]
     },
     "metadata": {},
     "output_type": "display_data"
    }
   ],
   "source": [
    "plt.plot(K, error, 'o')\n",
    "plt.xlabel('number of clusters k')\n",
    "plt.ylabel('Inertia (sum of squared distances)')\n",
    "plt.title('Optimal k')\n",
    "plt.show()"
   ]
  },
  {
   "cell_type": "code",
   "execution_count": null,
   "metadata": {
    "collapsed": true
   },
   "outputs": [],
   "source": []
  }
 ],
 "metadata": {
  "kernelspec": {
   "display_name": "Python 3",
   "language": "python",
   "name": "python3"
  },
  "language_info": {
   "codemirror_mode": {
    "name": "ipython",
    "version": 3
   },
   "file_extension": ".py",
   "mimetype": "text/x-python",
   "name": "python",
   "nbconvert_exporter": "python",
   "pygments_lexer": "ipython3",
   "version": "3.5.2"
  }
 },
 "nbformat": 4,
 "nbformat_minor": 2
}
